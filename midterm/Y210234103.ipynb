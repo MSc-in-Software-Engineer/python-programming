{
 "cells": [
  {
   "cell_type": "markdown",
   "metadata": {},
   "source": [
    "# Parola Encrypt/Decrypt Python Programı\n",
    "Kullanıcıdan şifre alıp bu şifreyi basit bir şifreleme algoritmasıyla şifreleyen ve şifrelenmiş şifreyi alıp orijinal şifreyi döndüren bir programdır."
   ]
  },
  {
   "cell_type": "code",
   "execution_count": 2,
   "metadata": {
    "ExecuteTime": {
     "start_time": "2023-04-20T16:53:12.765908Z",
     "end_time": "2023-04-20T16:53:12.770815Z"
    }
   },
   "outputs": [],
   "source": [
    "import string"
   ]
  },
  {
   "cell_type": "code",
   "execution_count": 3,
   "metadata": {
    "ExecuteTime": {
     "start_time": "2023-04-20T16:53:13.052390Z",
     "end_time": "2023-04-20T16:53:13.058599Z"
    }
   },
   "outputs": [],
   "source": [
    "# İlk önce, şifreleme algoritması için kullanılacak karakterler bir değişkende tanımlanır\n",
    "CIPHER_CHARS = 'p7n0k8j9h6y5t4g3b2v1cxezmlaqwrsuiof'"
   ]
  },
  {
   "cell_type": "code",
   "execution_count": 4,
   "metadata": {
    "ExecuteTime": {
     "start_time": "2023-04-20T16:53:13.228351Z",
     "end_time": "2023-04-20T16:53:13.234260Z"
    }
   },
   "outputs": [],
   "source": [
    "# Sonra, kullanıcının girdiği şifreyi şifrelemek için bir fonksiyon tanımlanır\n",
    "def encrypt_password(password):\n",
    "    plain_chars = string.ascii_lowercase + string.digits\n",
    "    password_dict = dict(zip(plain_chars, CIPHER_CHARS))\n",
    "    encrypted_password = ''.join([password_dict.get(char, char) for char in password])\n",
    "    return encrypted_password"
   ]
  },
  {
   "cell_type": "markdown",
   "metadata": {},
   "source": [
    "Bu fonksiyon, şifreleme algoritması için kullanılacak karakterlerin bir sözlükte saklanmasıyla çalışır. zip fonksiyonu, iki karakter dizisini bir araya getirerek bir dizi çift oluşturur. Bu dizi çiftleri, bir sözlüğe dönüştürülür ve bu sözlük, şifreleme algoritması için kullanılır. Son olarak, şifrelenmiş şifre döndürülür."
   ]
  },
  {
   "cell_type": "code",
   "execution_count": 5,
   "metadata": {
    "ExecuteTime": {
     "start_time": "2023-04-20T16:53:13.562086Z",
     "end_time": "2023-04-20T16:53:13.567806Z"
    }
   },
   "outputs": [],
   "source": [
    "# Şifrelenmiş şifreyi çözmek için bir fonksiyon daha tanımlanır\n",
    "def decrypt_password(encrypted_password):\n",
    "    password_dict = dict(zip(CIPHER_CHARS, string.ascii_lowercase + string.digits))\n",
    "    decrypted_password = ''.join([password_dict.get(char, char) for char in encrypted_password])\n",
    "    return decrypted_password"
   ]
  },
  {
   "cell_type": "markdown",
   "metadata": {},
   "source": [
    "Bu fonksiyon, şifreleme işleminin tersini yapar. Yani, şifreleme sırasında kullanılan karakterlerin ve şifreli karakterlerin bir sözlükte saklanmasıyla çalışır. Şifrelenmiş şifre, bu sözlük kullanılarak çözülür ve orijinal şifre döndürülür."
   ]
  },
  {
   "cell_type": "code",
   "execution_count": 6,
   "metadata": {
    "ExecuteTime": {
     "start_time": "2023-04-20T16:53:14.284481Z",
     "end_time": "2023-04-20T16:53:14.285123Z"
    }
   },
   "outputs": [],
   "source": [
    "# Sonra, kullanıcıdan şifre almak için bir fonksiyon daha tanımlanır:\n",
    "def get_password_from_user():\n",
    "    password = input(\"Enter password: \")\n",
    "    password = password.lower()\n",
    "    return password"
   ]
  },
  {
   "cell_type": "markdown",
   "metadata": {},
   "source": [
    "Bu fonksiyon, kullanıcıdan şifre alır ve şifreyi döndürür."
   ]
  },
  {
   "cell_type": "code",
   "execution_count": 7,
   "metadata": {
    "ExecuteTime": {
     "start_time": "2023-04-20T16:53:15.251458Z",
     "end_time": "2023-04-20T16:53:18.819101Z"
    }
   },
   "outputs": [
    {
     "name": "stdout",
     "output_type": "stream",
     "text": [
      "Select an option:\n",
      "1. Encrypt password\n",
      "2. Decrypt password\n",
      "3. Quit\n"
     ]
    }
   ],
   "source": [
    "# Ana döngü, kullanıcıya seçenekler sunar ve seçilen seçeneği işler\n",
    "while True:\n",
    "    print(\"Select an option:\")\n",
    "    print(\"1. Encrypt password\")\n",
    "    print(\"2. Decrypt password\")\n",
    "    print(\"3. Quit\")\n",
    "\n",
    "    choice = input(\"> \")\n",
    "\n",
    "    if choice == '1':\n",
    "        password = get_password_from_user()\n",
    "        encrypted_password = encrypt_password(password)\n",
    "        print(f\"Encrypted password: {encrypted_password}\")\n",
    "    elif choice == '2':\n",
    "        encrypted_password = get_password_from_user()\n",
    "        decrypted_password = decrypt_password(encrypted_password)\n",
    "        print(f\"Decrypted password: {decrypted_password}\")\n",
    "    elif choice == '3':\n",
    "        break\n",
    "    else:\n",
    "        print(\"Invalid choice\")"
   ]
  },
  {
   "cell_type": "code",
   "execution_count": null,
   "outputs": [],
   "source": [],
   "metadata": {
    "collapsed": false
   }
  }
 ],
 "metadata": {
  "kernelspec": {
   "display_name": "Python 3 (ipykernel)",
   "language": "python",
   "name": "python3"
  },
  "language_info": {
   "codemirror_mode": {
    "name": "ipython",
    "version": 3
   },
   "file_extension": ".py",
   "mimetype": "text/x-python",
   "name": "python",
   "nbconvert_exporter": "python",
   "pygments_lexer": "ipython3",
   "version": "3.9.6"
  }
 },
 "nbformat": 4,
 "nbformat_minor": 1
}
